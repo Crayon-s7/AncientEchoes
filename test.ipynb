{
 "cells": [
  {
   "cell_type": "code",
   "execution_count": 17,
   "metadata": {},
   "outputs": [
    {
     "name": "stderr",
     "output_type": "stream",
     "text": [
      "c:\\Users\\qq527\\anaconda3\\envs\\final_paper\\lib\\site-packages\\ebooklib\\epub.py:1395: UserWarning: In the future version we will turn default option ignore_ncx to True.\n",
      "  warnings.warn('In the future version we will turn default option ignore_ncx to True.')\n",
      "c:\\Users\\qq527\\anaconda3\\envs\\final_paper\\lib\\site-packages\\ebooklib\\epub.py:1423: FutureWarning: This search incorrectly ignores the root element, and will be fixed in a future version.  If you rely on the current behaviour, change it to './/xmlns:rootfile[@media-type]'\n",
      "  for root_file in tree.findall('//xmlns:rootfile[@media-type]', namespaces={'xmlns': NAMESPACES['CONTAINERNS']}):\n"
     ]
    }
   ],
   "source": [
    "from book import parse_book\n",
    "from utils import *\n",
    "book, book_content = parse_book(r\"D:\\毕业论文\\data\\十三经译注.epub\")\n",
    "\n",
    "chapter = book.chapters[-1].chapters[5].chapters[0].chapters[1]\n"
   ]
  },
  {
   "cell_type": "code",
   "execution_count": 19,
   "metadata": {},
   "outputs": [
    {
     "name": "stdout",
     "output_type": "stream",
     "text": [
      "清 庙\n",
      "维天之命\n",
      "维 清\n",
      "烈 文\n",
      "天 作\n",
      "昊天有成命\n",
      "我 将\n",
      "时 迈\n",
      "执 竞\n",
      "思 文\n",
      "臣 工\n",
      "噫 嘻\n",
      "振 鹭\n",
      "丰 年\n",
      "有 瞽\n",
      "潜\n",
      "雝\n",
      "载 见\n",
      "有 客\n",
      "武\n",
      "闵予小子\n",
      "访 落\n",
      "敬 之\n",
      "小 毖\n",
      "载 芟\n",
      "良 耜\n",
      "丝 衣\n",
      "酌\n",
      "桓\n",
      "赉\n",
      "般\n"
     ]
    },
    {
     "ename": "",
     "evalue": "",
     "output_type": "error",
     "traceback": [
      "\u001b[1;31mThe Kernel crashed while executing code in the current cell or a previous cell. \n",
      "\u001b[1;31mPlease review the code in the cell(s) to identify a possible cause of the failure. \n",
      "\u001b[1;31mClick <a href='https://aka.ms/vscodeJupyterKernelCrash'>here</a> for more info. \n",
      "\u001b[1;31mView Jupyter <a href='command:jupyter.viewOutput'>log</a> for further details."
     ]
    }
   ],
   "source": [
    "for child in book.chapters[-1].chapters[5].chapters[0].chapters:\n",
    "    print(child.name)"
   ]
  },
  {
   "cell_type": "code",
   "execution_count": 10,
   "metadata": {},
   "outputs": [
    {
     "name": "stdout",
     "output_type": "stream",
     "text": [
      "清 庙: text00084.html#sigil_toc_id_290\n",
      "\n"
     ]
    }
   ],
   "source": [
    "print(chapter)"
   ]
  },
  {
   "cell_type": "code",
   "execution_count": 16,
   "metadata": {},
   "outputs": [
    {
     "name": "stdout",
     "output_type": "stream",
     "text": [
      "<h4 id=\"sigil_toc_id_290\">清　庙</h4>&#13;\n",
      "<h5 class=\"sigil_not_in_toc\">【题解】</h5>&#13;\n",
      "<p class=\"tijie\">这是周统治者祭祀文王于宗庙的诗。</p>&#13;\n",
      "<table class=\"kindle-cn-bodyt0\">&#13;\n",
      "<tr>&#13;\n",
      "<td>&#13;\n",
      "<span class=\"shici01\">於穆清庙<span class=\"math-super\" id=\"7215bb54-ec95-4e9a-a82d-cb801cd24a7f\">&#13;\n",
      "<a href=\"text00084.html#FT7215bb54-ec95-4e9a-a82d-cb801cd24a7f\">〔１〕</a>&#13;\n",
      "</span>&#13;\n",
      " ，</span>&#13;\n",
      "</td>&#13;\n",
      "<td>&#13;\n",
      "<span class=\"shici02\">啊，在那深沉清庙中，</span>&#13;\n",
      "</td>&#13;\n",
      "</tr>&#13;\n",
      "<tr>&#13;\n",
      "<td>&#13;\n",
      "<span class=\"shici01\">肃雝显相<span class=\"math-super\" id=\"7c4bd3b5-04a1-47a7-814c-724f530e6fab\">&#13;\n",
      "<a href=\"text00084.html#FT7c4bd3b5-04a1-47a7-814c-724f530e6fab\">〔２〕</a>&#13;\n",
      "</span>&#13;\n",
      " 。</span>&#13;\n",
      "</td>&#13;\n",
      "<td>&#13;\n",
      "<span class=\"shici02\">助祭端庄又雍容。</span>&#13;\n",
      "</td>&#13;\n",
      "</tr>&#13;\n",
      "<tr>&#13;\n",
      "<td>&#13;\n",
      "<span class=\"shici01\">济济多士<span class=\"math-super\" id=\"4e2d5c72-79f5-40f6-a436-30327b6a7476\">&#13;\n",
      "<a href=\"text00084.html#FT4e2d5c72-79f5-40f6-a436-30327b6a7476\">〔３〕</a>&#13;\n",
      "</span>&#13;\n",
      " ，</span>&#13;\n",
      "</td>&#13;\n",
      "<td>&#13;\n",
      "<span class=\"shici02\">众士祭祀行列齐，</span>&#13;\n",
      "</td>&#13;\n",
      "</tr>&#13;\n",
      "<tr>&#13;\n",
      "<td>&#13;\n",
      "<span class=\"shici01\">秉文之德<span class=\"math-super\" id=\"3978efe3-584e-44ea-90fa-77593224a16c\">&#13;\n",
      "<a href=\"text00084.html#FT3978efe3-584e-44ea-90fa-77593224a16c\">〔４〕</a>&#13;\n",
      "</span>&#13;\n",
      " 。</span>&#13;\n",
      "</td>&#13;\n",
      "<td>&#13;\n",
      "<span class=\"shici02\">文王德教记在胸。</span>&#13;\n",
      "</td>&#13;\n",
      "</tr>&#13;\n",
      "<tr>&#13;\n",
      "<td>&#13;\n",
      "<span class=\"shici01\">对越在天<span class=\"math-super\" id=\"79793b12-4a8e-48a3-9b76-2b49818ae3ff\">&#13;\n",
      "<a href=\"text00084.html#FT79793b12-4a8e-48a3-9b76-2b49818ae3ff\">〔５〕</a>&#13;\n",
      "</span>&#13;\n",
      " ，</span>&#13;\n",
      "</td>&#13;\n",
      "<td>&#13;\n",
      "<span class=\"shici02\">遥对文王在天灵，</span>&#13;\n",
      "</td>&#13;\n",
      "</tr>&#13;\n",
      "<tr>&#13;\n",
      "<td>&#13;\n",
      "<span class=\"shici01\">骏奔走在庙<span class=\"math-super\" id=\"b287fdfe-97da-4c5d-a4c7-5acc41f5e75d\">&#13;\n",
      "<a href=\"text00084.html#FTb287fdfe-97da-4c5d-a4c7-5acc41f5e75d\">〔６〕</a>&#13;\n",
      "</span>&#13;\n",
      " 。</span>&#13;\n",
      "</td>&#13;\n",
      "<td>&#13;\n",
      "<span class=\"shici02\">奔走在庙疾如风。</span>&#13;\n",
      "</td>&#13;\n",
      "</tr>&#13;\n",
      "<tr>&#13;\n",
      "<td>&#13;\n",
      "<span class=\"shici01\">不显不承<span class=\"math-super\" id=\"e86a1934-e349-4ae4-9ec1-71e05f20f867\">&#13;\n",
      "<a href=\"text00084.html#FTe86a1934-e349-4ae4-9ec1-71e05f20f867\">〔７〕</a>&#13;\n",
      "</span>&#13;\n",
      " ，</span>&#13;\n",
      "</td>&#13;\n",
      "<td>&#13;\n",
      "<span class=\"shici02\">光照上天延后世，</span>&#13;\n",
      "</td>&#13;\n",
      "</tr>&#13;\n",
      "<tr>&#13;\n",
      "<td>&#13;\n",
      "<span class=\"shici01\">无射于人斯<span class=\"math-super\" id=\"479a17c3-157d-4fd7-9c8c-664a1336631f\">&#13;\n",
      "<a href=\"text00084.html#FT479a17c3-157d-4fd7-9c8c-664a1336631f\">〔８〕</a>&#13;\n",
      "</span>&#13;\n",
      " 。</span>&#13;\n",
      "</td>&#13;\n",
      "<td>&#13;\n",
      "<span class=\"shici02\">人们仰慕无时穷。</span>&#13;\n",
      "</td>&#13;\n",
      "</tr>&#13;\n",
      "</table>&#13;\n",
      "<h5 class=\"sigil_not_in_toc\">【注释】</h5>&#13;\n",
      "<p class=\"fnote\" id=\"FT7215bb54-ec95-4e9a-a82d-cb801cd24a7f\">&#13;\n",
      "<a href=\"text00084.html#7215bb54-ec95-4e9a-a82d-cb801cd24a7f\">〔１〕</a>&#13;\n",
      " 於（ｗū）：赞叹词。穆：形容清庙深远的样子。《毛传》训穆为“美”，亦通。清：清明。《郑笺》：“清庙者，祭有清明之德者之宫也，谓祭文王也。”有人训清为清静，亦通。</p>&#13;\n",
      "<p class=\"fnote\" id=\"FT7c4bd3b5-04a1-47a7-814c-724f530e6fab\">&#13;\n",
      "<a href=\"text00084.html#7c4bd3b5-04a1-47a7-814c-724f530e6fab\">〔２〕</a>&#13;\n",
      " 肃雝：态度严肃雍容。显：高贵显赫。相：助祭的公侯。</p>&#13;\n",
      "<p class=\"fnote\" id=\"FT4e2d5c72-79f5-40f6-a436-30327b6a7476\">&#13;\n",
      "<a href=\"text00084.html#4e2d5c72-79f5-40f6-a436-30327b6a7476\">〔３〕</a>&#13;\n",
      " 济济：多而整齐的样子。多士：众士，指参加祭祀的人。</p>&#13;\n",
      "<p class=\"fnote\" id=\"FT3978efe3-584e-44ea-90fa-77593224a16c\">&#13;\n",
      "<a href=\"text00084.html#3978efe3-584e-44ea-90fa-77593224a16c\">〔４〕</a>&#13;\n",
      " 秉：怀着。文：周文王。</p>&#13;\n",
      "<p class=\"fnote\" id=\"FT79793b12-4a8e-48a3-9b76-2b49818ae3ff\">&#13;\n",
      "<a href=\"text00084.html#79793b12-4a8e-48a3-9b76-2b49818ae3ff\">〔５〕</a>&#13;\n",
      " 越：于。</p>&#13;\n",
      "<p class=\"fnote\" id=\"FTb287fdfe-97da-4c5d-a4c7-5acc41f5e75d\">&#13;\n",
      "<a href=\"text00084.html#b287fdfe-97da-4c5d-a4c7-5acc41f5e75d\">〔６〕</a>&#13;\n",
      " 骏：迅速。</p>&#13;\n",
      "<p class=\"fnote\" id=\"FTe86a1934-e349-4ae4-9ec1-71e05f20f867\">&#13;\n",
      "<a href=\"text00084.html#e86a1934-e349-4ae4-9ec1-71e05f20f867\">〔７〕</a>&#13;\n",
      " 不：同“丕”，发声词。显：光明。承：继承。</p>&#13;\n",
      "<p class=\"fnote\" id=\"FT479a17c3-157d-4fd7-9c8c-664a1336631f\">&#13;\n",
      "<a href=\"text00084.html#479a17c3-157d-4fd7-9c8c-664a1336631f\">〔８〕</a>&#13;\n",
      " 无射（ｙì）：不厌，没有厌足。斯：语气词。<img alt=\"aaaaa\" src=\"Image02020.jpg\" style=\"height:0.1em\" />&#13;\n",
      "</p>&#13;\n",
      "\n"
     ]
    }
   ],
   "source": [
    "print(content)"
   ]
  },
  {
   "cell_type": "code",
   "execution_count": 18,
   "metadata": {},
   "outputs": [
    {
     "name": "stdout",
     "output_type": "stream",
     "text": [
      "<h4 id=\"sigil_toc_id_291\">维天之命</h4>\n",
      "<h5 class=\"sigil_not_in_toc\">【题解】</h5>\n",
      "<p class=\"tijie\">这也是周王祭祀文王的诗。关于成诗之时，郑玄认为在周公摄政五年之冬。而陈奂却考证说，诗当作于周公居摄的六年之末制礼作乐之后，即公元前１１１０年的时候。</p>\n",
      "<table class=\"kindle-cn-bodyt0\">维天之命〔１〕，想那天道在运行，於穆不已〔２〕。庄严肃穆永不停。於乎不显〔３〕，啊，多么显赫多光明，文王之德之纯！文王品德真纯正！假以溢我〔４〕，仁政使我得安宁，我其收之。我们一定要继承。骏惠我文王〔５〕，遵循文王踏过路，曾孙笃之〔６〕。子子孙孙要力行。</table>\n",
      "<h5 class=\"sigil_not_in_toc\">【注释】</h5>\n",
      "<p class=\"fnote\" id=\"FT68baec8a-c60c-44a7-ac55-06b6d89659f5\">〔１〕维：同“惟”，想。</p>\n",
      "<p class=\"fnote\" id=\"FT1b6f5380-7e78-4ad5-9eef-598fed7ec678\">〔２〕於（ｗū）：赞叹词。穆：肃敬。不已：不停。</p>\n",
      "<p class=\"fnote\" id=\"FT98d38a61-6d98-46db-881f-81c904e18709\">〔３〕於乎：呜呼，赞叹词。不显：即丕显，光明显赫。</p>\n",
      "<p class=\"fnote\" id=\"FT899e1cc8-5063-4643-9f4a-b57ba783b492\">〔４〕假：嘉，善。指仁政。溢：通“谧”，安宁，平静。</p>\n",
      "<p class=\"fnote\" id=\"FT1d05e4fc-36ea-4c18-bd2c-77c8d59950d8\">〔５〕骏惠：驯顺。马瑞辰《毛诗传笺通释》：“惠，顺也。骏，当为驯之假借，驯亦顺也。骏惠二字平列，皆为顺。”</p>\n",
      "<p class=\"fnote\" id=\"FT7b7774a1-9097-4b9e-9626-a7e94a771c40\">〔６〕曾孙：自孙以下均称曾孙。笃：厚，即笃行的省略，专心诚意地实行。<imgalt=\"aaaaa\"src=\"Image02020.jpg\"style=\"height:0.1em\"/></p>\n"
     ]
    }
   ],
   "source": [
    "content = chapter.get_content(book_content)\n",
    "merged_content = merge_same_tags(content)\n",
    "\n",
    "print(merged_content)\n"
   ]
  },
  {
   "cell_type": "code",
   "execution_count": 12,
   "metadata": {},
   "outputs": [],
   "source": [
    "explanation_pattern = re.compile(r'<p class=\"kindle-cn-para-no-indent\">【题解】</p>\\s*<p>(.*?)</p>', re.DOTALL)\n",
    "original_pattern = re.compile(r'<p class=\"kindle-cn-para-no-indent\">【原文】</p>\\s*<p>(.*?)</p>', re.DOTALL)\n",
    "translation_pattern = re.compile(r'<p class=\"kindle-cn-para-no-indent\">【译文】</p>\\s*<p>(.*?)</p>', re.DOTALL)\n",
    "notes_pattern = re.compile(r'<p class=\"kindle-cn-para-no-indent\">【注释】</p>\\s*<p>(.*?)</p>', re.DOTALL)\n",
    "marked_pattern = re.compile(r'〔\\d+〕([^：〔〕]+)：', re.DOTALL)\n",
    "\n",
    "explanation = parse_merged_html(merged_content, explanation_pattern)\n",
    "original_texts = parse_merged_html(merged_content, original_pattern)\n",
    "translations = parse_merged_html(merged_content, translation_pattern)\n",
    "notes = parse_merged_html(merged_content, notes_pattern)\n",
    "\n",
    "\n",
    "marked_notes, explanation_notes, original_texts = parse_notes(notes, original_texts, marked_pattern)\n",
    "chapter.marked_notes = marked_notes\n",
    "chapter.notes = explanation_notes\n",
    "chapter.original_texts = original_texts\n",
    "chapter.translations = translations\n",
    "chapter.explanation = explanation\n"
   ]
  },
  {
   "cell_type": "code",
   "execution_count": 13,
   "metadata": {},
   "outputs": [],
   "source": [
    "chapter.save_to_json(f\"{chapter.get_full_name()}.json\")\n"
   ]
  },
  {
   "cell_type": "code",
   "execution_count": 85,
   "metadata": {},
   "outputs": [
    {
     "data": {
      "text/plain": [
       "[{'元年春王正月': '《春秋》记时体例：一、纪年，二、别四时，三、有的事记明月份，四、有的事用干支记日。特别四时之记不脱空，即使整个季度无事，也必首书月以记时。王正月，指周历的正月。夏、商、周三代不同历，《史记·历书》：“夏正以正月，殷正以十二月，周正以十一月。”也就是说：殷历以夏历的十二月为正月，周历以夏历的十一月为正月。所谓月改则春移，周历仍以正月、二月、三月为春季，实际上相当于夏历的仲冬、季冬、孟春。这里的“王正月”下并无记事，是因为隐公摄政，所以不书“即位”；但他在元年始月，照例要朝庙举行告朔之礼，所以空书以记时。',\n",
       "  '君': '天子或诸侯，这里指鲁侯隐公。',\n",
       "  '文王': '周文王。“王正月”的“王”，实际上是泛指周王，《公羊传》把它说成特指周文王，是把周文王看作周历改正朔的代表。《史记·周本纪》：“西伯盖受命之年称王……后七年而崩，谥为文王，改法度、制正朔矣。”',\n",
       "  '大一统': '指天下诸侯统一于周天子。陈立《公羊义疏》（以下简称《义疏》）引《汉书·王阳传》：“春秋所以大一统者，六合同风，九州共贯也。”据说周王每年向诸侯颁历书，各诸侯国都奉行周历。但实际情况并不这样，如杞国行夏历，宋国行殷历，晋、楚等大国，鄀、邓等小国，也都不用周历，至于各国民间，多习惯于用夏历，远远没有达到“六合同风，九州共贯”的地步。',\n",
       "  '平': '何休《春秋公羊经传解诂》（以下简称《解诂》）：“治也。”反：返。',\n",
       "  '其为尊卑也微，国人莫知': '《公羊传》认为桓公虽然比隐公“贵”，但并非贵为太子，两人尊卑差别不明显，身份都是公子。所以《解诂》说他们“母俱媵也”，区别是“桓母右媵”，地位比隐公的母亲稍高，与《左传》、《史记》说她是夫人有异。孔广森《春秋公羊通义》（以下简称《通义》）则说：“盖声子以继室称夫人，仲子再娶，亦称夫人，并妃二嫡，故国人疑于其尊卑矣。”把《公羊传》与《左传》、《史记》折衷起来立说。国人：国都内外大夫以下的人。',\n",
       "  '扳': '通攀，挽引。',\n",
       "  '焉': '语气助辞。辞：辞让。',\n",
       "  '未知桓之将必得立': '《解诂》：“是时公子非一。”所以隐公辞让的话，未必轮得到桓公即位。',\n",
       "  '相': '辅助。',\n",
       "  '適': '通“嫡”，嫡子，这里指嫡长子。',\n",
       "  '立子': '这里指在没有嫡子的情况下，立庶子为嗣子。《解诂》：“子谓左右媵及侄娣之子，位有贵贱，又防其同时而生，故以贵也。”根据古代礼法，嫡夫人无子立右媵，右媵无子立左媵。',\n",
       "  '母贵也': '《解诂》：“据桓母右媵。”《通义》：“隐母本以媵至，桓母本以夫人礼至。”两说不同。从下文“仲子，微也”来看，《解诂》对《公羊传》的理解近是。',\n",
       "  '子以母贵': '在一夫多妻制下，正妻的儿子称为嫡子，媵妾的儿子称为庶子，嫡子地位尊贵是因为母亲地位尊贵；如无嫡子，则右媵贵于左媵，左媵贵于其他妾，她们的儿子也因此有了身份上的尊卑。',\n",
       "  '母以子贵': '庶子如被立为太子或做了国君，他母亲的地位也会随之提高，原来是媵妾的，可以成为正夫人。'}]"
      ]
     },
     "execution_count": 85,
     "metadata": {},
     "output_type": "execute_result"
    }
   ],
   "source": [
    "explanation_notes"
   ]
  },
  {
   "cell_type": "code",
   "execution_count": 73,
   "metadata": {},
   "outputs": [
    {
     "data": {
      "text/plain": [
       "'〔1〕元年春王正月：《春秋》记时体例：一、纪年，二、别四时，三、有的事记明月份，四、有的事用干支记日。特别四时之记不脱空，即使整个季度无事，也必首书月以记时。王正月，指周历的正月。夏、商、周三代不同历，《史记·历书》：“夏正以正月，殷正以十二月，周正以十一月。”也就是说：殷历以夏历的十二月为正月，周历以夏历的十一月为正月。所谓月改则春移，周历仍以正月、二月、三月为春季，实际上相当于夏历的仲冬、季冬、孟春。这里的“王正月”下并无记事，是因为隐公摄政，所以不书“即位”；但他在元年始月，照例要朝庙举行告朔之礼，所以空书以记时。〔2〕君：天子或诸侯，这里指鲁侯隐公。〔3〕文王：周文王。“王正月”的“王”，实际上是泛指周王，《公羊传》把它说成特指周文王，是把周文王看作周历改正朔的代表。《史记·周本纪》：“西伯盖受命之年称王……后七年而崩，谥为文王，改法度、制正朔矣。”〔4〕大一统：指天下诸侯统一于周天子。陈立《公羊义疏》（以下简称《义疏》）引《汉书·王阳传》：“春秋所以大一统者，六合同风，九州共贯也。”据说周王每年向诸侯颁历书，各诸侯国都奉行周历。但实际情况并不这样，如杞国行夏历，宋国行殷历，晋、楚等大国，鄀、邓等小国，也都不用周历，至于各国民间，多习惯于用夏历，远远没有达到“六合同风，九州共贯”的地步。〔5〕平：何休《春秋公羊经传解诂》（以下简称《解诂》）：“治也。”反：返。〔6〕其为尊卑也微，国人莫知：《公羊传》认为桓公虽然比隐公“贵”，但并非贵为太子，两人尊卑差别不明显，身份都是公子。所以《解诂》说他们“母俱媵也”，区别是“桓母右媵”，地位比隐公的母亲稍高，与《左传》、《史记》说她是夫人有异。孔广森《春秋公羊通义》（以下简称《通义》）则说：“盖声子以继室称夫人，仲子再娶，亦称夫人，并妃二嫡，故国人疑于其尊卑矣。”把《公羊传》与《左传》、《史记》折衷起来立说。国人：国都内外大夫以下的人。〔7〕扳（Pān）：通攀，挽引。〔8〕焉：语气助辞。辞：辞让。〔9〕未知桓之将必得立：《解诂》：“是时公子非一。”所以隐公辞让的话，未必轮得到桓公即位。〔10〕相：辅助。〔11〕適：通“嫡”，嫡子，这里指嫡长子。〔12〕立子：这里指在没有嫡子的情况下，立庶子为嗣子。《解诂》：“子谓左右媵及侄娣之子，位有贵贱，又防其同时而生，故以贵也。”根据古代礼法，嫡夫人无子立右媵，右媵无子立左媵。〔13〕母贵也：《解诂》：“据桓母右媵。”《通义》：“隐母本以媵至，桓母本以夫人礼至。”两说不同。从下文“仲子，微也”来看，《解诂》对《公羊传》的理解近是。〔14〕子以母贵：在一夫多妻制下，正妻的儿子称为嫡子，媵妾的儿子称为庶子，嫡子地位尊贵是因为母亲地位尊贵；如无嫡子，则右媵贵于左媵，左媵贵于其他妾，她们的儿子也因此有了身份上的尊卑。〔15〕母以子贵：庶子如被立为太子或做了国君，他母亲的地位也会随之提高，原来是媵妾的，可以成为正夫人。'"
      ]
     },
     "execution_count": 73,
     "metadata": {},
     "output_type": "execute_result"
    }
   ],
   "source": [
    "notes[0]\n"
   ]
  },
  {
   "cell_type": "code",
   "execution_count": 46,
   "metadata": {},
   "outputs": [
    {
     "name": "stdout",
     "output_type": "stream",
     "text": [
      "【元年春王正月】\n",
      "【君】\n",
      "【文王】\n",
      "【大一统】\n",
      "【平】\n",
      "【其为尊卑也微，国人莫知】\n",
      "【扳】\n",
      "【焉】\n",
      "【未知桓之将必得立】\n",
      "【相】\n",
      "【適】\n",
      "【立子】\n",
      "【母贵也】\n",
      "【子以母贵】\n",
      "【母以子贵】\n"
     ]
    }
   ],
   "source": [
    "import re\n",
    "\n",
    "\n",
    "# 正则表达式匹配每个列表项\n",
    "pattern = re.compile(r'〔\\d+〕(.+?)：')\n",
    "\n",
    "# 提取注释的字\n",
    "annotations = [pattern.search(text).group(1) for text in split_notes]\n",
    "\n",
    "# 正则表达式匹配括号及其内部的内容\n",
    "pattern = re.compile(r'（[^）]*）')\n",
    "annotations = [pattern.sub('', annotation) for annotation in annotations]\t\n",
    "\n"
   ]
  },
  {
   "cell_type": "code",
   "execution_count": 48,
   "metadata": {},
   "outputs": [
    {
     "name": "stdout",
     "output_type": "stream",
     "text": [
      "**元年春王正月**〔1〕。元年者何？**君**之始年也〔2〕。春者何？岁之始也。王者孰谓？谓**文王**也〔3〕。曷为先言王而后言正月？王正月也。何言乎王正月？**大一统**也〔4〕。公何以不言即位？成公意也。何成乎公之意？公将**平**国而反之桓〔5〕。曷为反之桓？桓幼而贵，隐长而卑。**其为尊卑也微，国人莫知**〔6〕。隐长又贤，诸大夫**扳**隐而立之〔7〕。隐于是**焉**而辞立〔8〕，则**未知桓之将必得立**也〔9〕；且如桓立，则恐诸大夫之不能**相**幼君也〔10〕。故凡隐之立，为桓立也。隐长又贤，何以不宜立？立**適**以长〔11〕，不以贤；**立子**以贵〔12〕，不以长。桓何以贵？**母贵也**〔13〕。母贵则子何以贵？**子以母贵**〔14〕，**母以子贵**〔15〕。\n",
      "**元年春王正月**。元年者何？**君**之始年也。春者何？岁之始也。王者孰谓？谓**文王**也。曷为先言王而后言正月？王正月也。何言乎王正月？**大一统**也。公何以不言即位？成公意也。何成乎公之意？公将**平**国而反之桓。曷为反之桓？桓幼而贵，隐长而卑。**其为尊卑也微，国人莫知**。隐长又贤，诸大夫**扳**隐而立之。隐于是**焉**而辞立，则**未知桓之将必得立**也；且如桓立，则恐诸大夫之不能**相**幼君也。故凡隐之立，为桓立也。隐长又贤，何以不宜立？立**適**以长，不以贤；**立子**以贵，不以长。桓何以贵？**母贵也**。母贵则子何以贵？**子以母贵**，**母以子贵**。\n"
     ]
    }
   ],
   "source": [
    "\n",
    "result = yuanwen[0]\n",
    "for i in range(len(annotations)):\n",
    "\tif i == 0:\n",
    "\t\tpre_index = 0\n",
    "\telse:\n",
    "\t\tpre_index = result.find(f'〔{i}〕')\n",
    "\tcur_index = result.find(f'〔{i+1}〕')\n",
    "\n",
    "\tresult = result[:pre_index] + result[pre_index:cur_index].replace(annotations[i], f\"**{annotations[i]}**\") + result[cur_index:]\n",
    "\n",
    "pattern = re.compile(r'〔\\d+〕')\n",
    "result = pattern.sub('', result)\n",
    "print(result)\n",
    "\t\n",
    "\n",
    "\n",
    "\n",
    "\t\n",
    "\n"
   ]
  }
 ],
 "metadata": {
  "kernelspec": {
   "display_name": "final_paper",
   "language": "python",
   "name": "python3"
  },
  "language_info": {
   "codemirror_mode": {
    "name": "ipython",
    "version": 3
   },
   "file_extension": ".py",
   "mimetype": "text/x-python",
   "name": "python",
   "nbconvert_exporter": "python",
   "pygments_lexer": "ipython3",
   "version": "3.10.15"
  }
 },
 "nbformat": 4,
 "nbformat_minor": 2
}
